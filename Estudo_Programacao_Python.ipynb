{
  "nbformat": 4,
  "nbformat_minor": 0,
  "metadata": {
    "colab": {
      "name": "Estudo Programacao Python.ipynb",
      "provenance": [],
      "authorship_tag": "ABX9TyNKlhd8kNot/9xkaFpP6frQ",
      "include_colab_link": true
    },
    "kernelspec": {
      "name": "python3",
      "display_name": "Python 3"
    },
    "language_info": {
      "name": "python"
    }
  },
  "cells": [
    {
      "cell_type": "markdown",
      "metadata": {
        "id": "view-in-github",
        "colab_type": "text"
      },
      "source": [
        "<a href=\"https://colab.research.google.com/github/lcaj/Python_para_Analise_de_Dados/blob/main/Estudo_Programacao_Python.ipynb\" target=\"_parent\"><img src=\"https://colab.research.google.com/assets/colab-badge.svg\" alt=\"Open In Colab\"/></a>"
      ]
    },
    {
      "cell_type": "code",
      "execution_count": null,
      "metadata": {
        "colab": {
          "base_uri": "https://localhost:8080/"
        },
        "id": "mqz9HdP1o-Ru",
        "outputId": "38a62ca2-865d-467a-a979-c3a9ee996d3a"
      },
      "outputs": [
        {
          "output_type": "stream",
          "name": "stdout",
          "text": [
            "12.987658\n"
          ]
        },
        {
          "output_type": "execute_result",
          "data": {
            "text/plain": [
              "12.99"
            ]
          },
          "metadata": {},
          "execution_count": 2
        }
      ],
      "source": [
        "# Comando Round\n",
        "Valor_Exemplo = 12.987658\n",
        "print(Valor_Exemplo)\n",
        "round(Valor_Exemplo,2)\n"
      ]
    },
    {
      "cell_type": "code",
      "source": [
        "#Comando Len\n",
        "#Retorna a quantidade de elemento de qualquer  lista em pytho\n",
        "Lista = [1,2,3,4,5,6,7,8,9]\n",
        "Dicionario = {'Nome' : 'Luiz', 'Idade' : 31}\n",
        "Tupla = (1,2,3)\n",
        "String = 'Ola Mundao!'\n",
        "len(String)"
      ],
      "metadata": {
        "colab": {
          "base_uri": "https://localhost:8080/"
        },
        "id": "WjaxksMFpwKK",
        "outputId": "c850bc12-57c7-4299-d094-6f96f616eb56"
      },
      "execution_count": null,
      "outputs": [
        {
          "output_type": "execute_result",
          "data": {
            "text/plain": [
              "11"
            ]
          },
          "metadata": {},
          "execution_count": 6
        }
      ]
    },
    {
      "cell_type": "code",
      "source": [
        "Minha_String = 'Aprender pytho e Top!'\n",
        " Minha_String[-10]"
      ],
      "metadata": {
        "colab": {
          "base_uri": "https://localhost:8080/",
          "height": 132
        },
        "id": "PTIIe8u2rQuR",
        "outputId": "3adc2214-44e8-432c-8814-6237b93e364b"
      },
      "execution_count": null,
      "outputs": [
        {
          "output_type": "error",
          "ename": "IndentationError",
          "evalue": "ignored",
          "traceback": [
            "\u001b[0;36m  File \u001b[0;32m\"<ipython-input-10-25acee9d7b53>\"\u001b[0;36m, line \u001b[0;32m2\u001b[0m\n\u001b[0;31m    Minha_String[-10]\u001b[0m\n\u001b[0m    ^\u001b[0m\n\u001b[0;31mIndentationError\u001b[0m\u001b[0;31m:\u001b[0m unexpected indent\n"
          ]
        }
      ]
    },
    {
      "cell_type": "code",
      "source": [
        "CPF = 'cpf: 123456789'\n",
        "CPF[-9:]"
      ],
      "metadata": {
        "colab": {
          "base_uri": "https://localhost:8080/",
          "height": 35
        },
        "id": "WkYl3m_TsatA",
        "outputId": "27bce953-5e04-4833-a8d9-a7e964752e5a"
      },
      "execution_count": null,
      "outputs": [
        {
          "output_type": "execute_result",
          "data": {
            "text/plain": [
              "'123456789'"
            ],
            "application/vnd.google.colaboratory.intrinsic+json": {
              "type": "string"
            }
          },
          "metadata": {},
          "execution_count": 11
        }
      ]
    },
    {
      "cell_type": "code",
      "source": [
        "#Manipulacao de String\n",
        "1.replace()\n",
        "2.startswith()\n",
        "3.endswith()\n",
        "4.count()\n",
        "5.capitalize()\n",
        "6.isdigit()\n",
        "7.isalnum()\n",
        "8.upper()\n",
        "9.lower()\n",
        "10.find()\n",
        "11.strip()\n",
        "12.split()\n",
        "\n"
      ],
      "metadata": {
        "colab": {
          "base_uri": "https://localhost:8080/",
          "height": 132
        },
        "id": "rWAQLGp_tECq",
        "outputId": "b83f9fb7-23b6-4ad1-f92a-dd3853f6ece4"
      },
      "execution_count": null,
      "outputs": [
        {
          "output_type": "error",
          "ename": "SyntaxError",
          "evalue": "ignored",
          "traceback": [
            "\u001b[0;36m  File \u001b[0;32m\"<ipython-input-13-c9b2181a0ca7>\"\u001b[0;36m, line \u001b[0;32m2\u001b[0m\n\u001b[0;31m    1.replace()\u001b[0m\n\u001b[0m            ^\u001b[0m\n\u001b[0;31mSyntaxError\u001b[0m\u001b[0;31m:\u001b[0m invalid syntax\n"
          ]
        }
      ]
    },
    {
      "cell_type": "code",
      "source": [
        "String = 'Ola Mundao!'\n",
        "print(String)"
      ],
      "metadata": {
        "colab": {
          "base_uri": "https://localhost:8080/"
        },
        "id": "brfF1Pg3t94b",
        "outputId": "177dcdd5-1ae5-474b-afb2-a463d2a561a8"
      },
      "execution_count": null,
      "outputs": [
        {
          "output_type": "stream",
          "name": "stdout",
          "text": [
            "Ola Mundao!\n"
          ]
        }
      ]
    },
    {
      "cell_type": "code",
      "source": [
        "len(String)"
      ],
      "metadata": {
        "colab": {
          "base_uri": "https://localhost:8080/"
        },
        "id": "t3y7AQGbt-dx",
        "outputId": "e8ee516b-6d1c-40d8-a1ba-f384b6419b91"
      },
      "execution_count": null,
      "outputs": [
        {
          "output_type": "execute_result",
          "data": {
            "text/plain": [
              "11"
            ]
          },
          "metadata": {},
          "execution_count": 17
        }
      ]
    },
    {
      "cell_type": "code",
      "source": [
        "type(String)"
      ],
      "metadata": {
        "colab": {
          "base_uri": "https://localhost:8080/"
        },
        "id": "EkLYlR3Mt-j7",
        "outputId": "be51efb3-7edb-422e-91ae-51ecd0640c75"
      },
      "execution_count": null,
      "outputs": [
        {
          "output_type": "execute_result",
          "data": {
            "text/plain": [
              "str"
            ]
          },
          "metadata": {},
          "execution_count": 18
        }
      ]
    },
    {
      "cell_type": "code",
      "source": [
        "String + 'Concatenei'\n",
        "\n",
        "      "
      ],
      "metadata": {
        "id": "wYcjy46It-rA"
      },
      "execution_count": null,
      "outputs": []
    },
    {
      "cell_type": "code",
      "source": [
        "#Replace --> Substituir\n",
        "String.replace('Mundao','Mundo')"
      ],
      "metadata": {
        "colab": {
          "base_uri": "https://localhost:8080/",
          "height": 35
        },
        "id": "qW2OVMqltdU8",
        "outputId": "8120615a-12cd-4c84-c2cc-467195197532"
      },
      "execution_count": null,
      "outputs": [
        {
          "output_type": "execute_result",
          "data": {
            "text/plain": [
              "'Ola Mundo!'"
            ],
            "application/vnd.google.colaboratory.intrinsic+json": {
              "type": "string"
            }
          },
          "metadata": {},
          "execution_count": 19
        }
      ]
    },
    {
      "cell_type": "code",
      "source": [
        "CPF = 'CPF: 123456789'\n",
        "int(CPF.replace('CPF:', ''))"
      ],
      "metadata": {
        "colab": {
          "base_uri": "https://localhost:8080/"
        },
        "id": "Dw_Ei21gvI9k",
        "outputId": "69b76454-1d86-4ecd-c01a-05c2b27a7660"
      },
      "execution_count": null,
      "outputs": [
        {
          "output_type": "execute_result",
          "data": {
            "text/plain": [
              "123456789"
            ]
          },
          "metadata": {},
          "execution_count": 22
        }
      ]
    },
    {
      "cell_type": "code",
      "source": [
        "String.startswith('Ola')#Funcao para verificar o comeco da string"
      ],
      "metadata": {
        "colab": {
          "base_uri": "https://localhost:8080/"
        },
        "id": "8xIJPyDIvxYp",
        "outputId": "42e6fc2d-8ecc-4109-81ca-b74f73372779"
      },
      "execution_count": null,
      "outputs": [
        {
          "output_type": "execute_result",
          "data": {
            "text/plain": [
              "True"
            ]
          },
          "metadata": {},
          "execution_count": 23
        }
      ]
    },
    {
      "cell_type": "code",
      "source": [
        "#Verificar o Fim\n",
        "String.endswith('Mundao')"
      ],
      "metadata": {
        "colab": {
          "base_uri": "https://localhost:8080/",
          "height": 185
        },
        "id": "wKE5K8isvxkS",
        "outputId": "d19fd941-cb4f-473c-d321-9e9f03092fe9"
      },
      "execution_count": null,
      "outputs": [
        {
          "output_type": "error",
          "ename": "NameError",
          "evalue": "ignored",
          "traceback": [
            "\u001b[0;31m---------------------------------------------------------------------------\u001b[0m",
            "\u001b[0;31mNameError\u001b[0m                                 Traceback (most recent call last)",
            "\u001b[0;32m<ipython-input-3-8748dca9e863>\u001b[0m in \u001b[0;36m<module>\u001b[0;34m()\u001b[0m\n\u001b[1;32m      1\u001b[0m \u001b[0;31m#Verificar o Fim\u001b[0m\u001b[0;34m\u001b[0m\u001b[0;34m\u001b[0m\u001b[0;34m\u001b[0m\u001b[0m\n\u001b[0;32m----> 2\u001b[0;31m \u001b[0mString\u001b[0m\u001b[0;34m.\u001b[0m\u001b[0mendswith\u001b[0m\u001b[0;34m(\u001b[0m\u001b[0;34m'Mundao'\u001b[0m\u001b[0;34m)\u001b[0m\u001b[0;34m\u001b[0m\u001b[0;34m\u001b[0m\u001b[0m\n\u001b[0m",
            "\u001b[0;31mNameError\u001b[0m: name 'String' is not defined"
          ]
        }
      ]
    },
    {
      "cell_type": "code",
      "source": [
        "#Contar palavra/letra\n",
        "String.count('M')"
      ],
      "metadata": {
        "colab": {
          "base_uri": "https://localhost:8080/",
          "height": 185
        },
        "id": "tmp6hV7pvxyN",
        "outputId": "7674d099-ac4d-4c43-bfc2-516bd15e7823"
      },
      "execution_count": null,
      "outputs": [
        {
          "output_type": "error",
          "ename": "NameError",
          "evalue": "ignored",
          "traceback": [
            "\u001b[0;31m---------------------------------------------------------------------------\u001b[0m",
            "\u001b[0;31mNameError\u001b[0m                                 Traceback (most recent call last)",
            "\u001b[0;32m<ipython-input-8-5f6ae0c08d87>\u001b[0m in \u001b[0;36m<module>\u001b[0;34m()\u001b[0m\n\u001b[1;32m      1\u001b[0m \u001b[0;31m#Contar palavra/letra\u001b[0m\u001b[0;34m\u001b[0m\u001b[0;34m\u001b[0m\u001b[0;34m\u001b[0m\u001b[0m\n\u001b[0;32m----> 2\u001b[0;31m \u001b[0mString\u001b[0m\u001b[0;34m.\u001b[0m\u001b[0mcount\u001b[0m\u001b[0;34m(\u001b[0m\u001b[0;34m'M'\u001b[0m\u001b[0;34m)\u001b[0m\u001b[0;34m\u001b[0m\u001b[0;34m\u001b[0m\u001b[0m\n\u001b[0m",
            "\u001b[0;31mNameError\u001b[0m: name 'String' is not defined"
          ]
        }
      ]
    },
    {
      "cell_type": "code",
      "source": [
        "#Transformacao \n",
        "Nome = 'junior'\n",
        "Nome.capitalize()"
      ],
      "metadata": {
        "colab": {
          "base_uri": "https://localhost:8080/",
          "height": 35
        },
        "id": "D1qdikqavx81",
        "outputId": "2b7b40a5-492f-48bb-dad2-3a5fa12e5d6c"
      },
      "execution_count": null,
      "outputs": [
        {
          "output_type": "execute_result",
          "data": {
            "text/plain": [
              "'Junior'"
            ],
            "application/vnd.google.colaboratory.intrinsic+json": {
              "type": "string"
            }
          },
          "metadata": {},
          "execution_count": 6
        }
      ]
    },
    {
      "cell_type": "code",
      "source": [
        "#Verificar se existe numerico\n",
        "String_CPF = '123456789'\n",
        "String_CPF.isdigit()"
      ],
      "metadata": {
        "colab": {
          "base_uri": "https://localhost:8080/"
        },
        "id": "-25G-GDTUWkE",
        "outputId": "85cd3d23-cb99-47f6-a2b7-50e81bd8a152"
      },
      "execution_count": null,
      "outputs": [
        {
          "output_type": "execute_result",
          "data": {
            "text/plain": [
              "True"
            ]
          },
          "metadata": {},
          "execution_count": 9
        }
      ]
    },
    {
      "cell_type": "code",
      "source": [
        "#Verificar se a string alfanumerico\n",
        "String.isalnum()"
      ],
      "metadata": {
        "colab": {
          "base_uri": "https://localhost:8080/",
          "height": 185
        },
        "id": "EWgcOIlwUYMS",
        "outputId": "a3c8b54f-5405-4d2e-da18-18e35545ded7"
      },
      "execution_count": null,
      "outputs": [
        {
          "output_type": "error",
          "ename": "NameError",
          "evalue": "ignored",
          "traceback": [
            "\u001b[0;31m---------------------------------------------------------------------------\u001b[0m",
            "\u001b[0;31mNameError\u001b[0m                                 Traceback (most recent call last)",
            "\u001b[0;32m<ipython-input-10-f2c5ea4ed4f0>\u001b[0m in \u001b[0;36m<module>\u001b[0;34m()\u001b[0m\n\u001b[1;32m      1\u001b[0m \u001b[0;31m#Verificar se a string alfanumerico\u001b[0m\u001b[0;34m\u001b[0m\u001b[0;34m\u001b[0m\u001b[0;34m\u001b[0m\u001b[0m\n\u001b[0;32m----> 2\u001b[0;31m \u001b[0mString\u001b[0m\u001b[0;34m.\u001b[0m\u001b[0misalnum\u001b[0m\u001b[0;34m(\u001b[0m\u001b[0;34m)\u001b[0m\u001b[0;34m\u001b[0m\u001b[0;34m\u001b[0m\u001b[0m\n\u001b[0m",
            "\u001b[0;31mNameError\u001b[0m: name 'String' is not defined"
          ]
        }
      ]
    },
    {
      "cell_type": "code",
      "source": [
        "#Transforma as letras em maiusculo\n",
        "Nome = 'luiz'\n",
        "Nome.upper()"
      ],
      "metadata": {
        "colab": {
          "base_uri": "https://localhost:8080/",
          "height": 35
        },
        "id": "TrhVjZgKUYc_",
        "outputId": "33dae604-3a77-4fac-a77f-413ae2b29853"
      },
      "execution_count": null,
      "outputs": [
        {
          "output_type": "execute_result",
          "data": {
            "text/plain": [
              "'LUIZ'"
            ],
            "application/vnd.google.colaboratory.intrinsic+json": {
              "type": "string"
            }
          },
          "metadata": {},
          "execution_count": 11
        }
      ]
    },
    {
      "cell_type": "code",
      "source": [
        "#Transforma as letras em minusculo\n",
        "Nome = 'LUIZ'\n",
        "Nome.lower()"
      ],
      "metadata": {
        "colab": {
          "base_uri": "https://localhost:8080/",
          "height": 35
        },
        "id": "gLhkNJ8NUYia",
        "outputId": "c490102d-6e60-48af-8e4c-12321e234dff"
      },
      "execution_count": null,
      "outputs": [
        {
          "output_type": "execute_result",
          "data": {
            "text/plain": [
              "'luiz'"
            ],
            "application/vnd.google.colaboratory.intrinsic+json": {
              "type": "string"
            }
          },
          "metadata": {},
          "execution_count": 12
        }
      ]
    },
    {
      "cell_type": "code",
      "source": [
        "#localizar especifico na string\n",
        "Frase ='Hoje o dia faz calor!!!'\n",
        "Frase.find('dia')"
      ],
      "metadata": {
        "colab": {
          "base_uri": "https://localhost:8080/"
        },
        "id": "2AB2dCLkUYoM",
        "outputId": "9cb4b3ca-e504-4b96-8500-f68fd96ee4ee"
      },
      "execution_count": null,
      "outputs": [
        {
          "output_type": "execute_result",
          "data": {
            "text/plain": [
              "7"
            ]
          },
          "metadata": {},
          "execution_count": 13
        }
      ]
    },
    {
      "cell_type": "code",
      "source": [
        "#remove espaco \n",
        "Endereco = ' R augusto 120, SP '\n",
        "Endereco.strip()"
      ],
      "metadata": {
        "colab": {
          "base_uri": "https://localhost:8080/",
          "height": 35
        },
        "id": "bJ9bqOckYdq7",
        "outputId": "fe9b89eb-657e-4e56-a45d-644364019fcd"
      },
      "execution_count": null,
      "outputs": [
        {
          "output_type": "execute_result",
          "data": {
            "text/plain": [
              "'R augusto 120, SP'"
            ],
            "application/vnd.google.colaboratory.intrinsic+json": {
              "type": "string"
            }
          },
          "metadata": {},
          "execution_count": 15
        }
      ]
    },
    {
      "cell_type": "code",
      "source": [
        "#quebrar a string\n",
        "Palavra = 'Rua augusta 150, Centro, SP'\n",
        "Palavra.split()"
      ],
      "metadata": {
        "colab": {
          "base_uri": "https://localhost:8080/"
        },
        "id": "vTj26-KRYeB7",
        "outputId": "b2f4faa2-237c-4dc5-8cc8-f26180d133f2"
      },
      "execution_count": null,
      "outputs": [
        {
          "output_type": "execute_result",
          "data": {
            "text/plain": [
              "['Rua', 'augusta', '150,', 'Centro,', 'SP']"
            ]
          },
          "metadata": {},
          "execution_count": 18
        }
      ]
    },
    {
      "cell_type": "code",
      "source": [
        "#comando input\n",
        "input('Nome:')"
      ],
      "metadata": {
        "id": "t9egcJi9YeK0",
        "colab": {
          "base_uri": "https://localhost:8080/",
          "height": 53
        },
        "outputId": "e8789785-f7fe-4e64-c617-fb92b202c381"
      },
      "execution_count": null,
      "outputs": [
        {
          "name": "stdout",
          "output_type": "stream",
          "text": [
            "Nome:Luiz\n"
          ]
        },
        {
          "output_type": "execute_result",
          "data": {
            "text/plain": [
              "'Luiz'"
            ],
            "application/vnd.google.colaboratory.intrinsic+json": {
              "type": "string"
            }
          },
          "metadata": {},
          "execution_count": 2
        }
      ]
    },
    {
      "cell_type": "code",
      "source": [
        "#formulario\n",
        "Nome = input('Qual seu nome: ')\n",
        "Idade = input('Qual a sua idade: ')\n",
        "\n",
        "print('Seu nome', Nome)\n",
        "print('Sua Idade', Idade)"
      ],
      "metadata": {
        "id": "KF_2oTVfYeUu",
        "colab": {
          "base_uri": "https://localhost:8080/"
        },
        "outputId": "3f0cc37c-44bb-4e35-c4ef-11f90bea2309"
      },
      "execution_count": null,
      "outputs": [
        {
          "output_type": "stream",
          "name": "stdout",
          "text": [
            "Qual seu nome: Luiz\n",
            "Qual a sua idade: 32\n",
            "Seu nome Luiz\n",
            "Sua Idade 32\n"
          ]
        }
      ]
    },
    {
      "cell_type": "code",
      "source": [
        "#operadores de comparacoes\n",
        "== (igual a)\n",
        "!= (diferente)\n",
        ">  (Maior)\n",
        "<  (Menor)\n",
        ">= (Maior igual)\n",
        "<= (Menor igual)"
      ],
      "metadata": {
        "id": "6UoJhvkAYefN"
      },
      "execution_count": null,
      "outputs": []
    },
    {
      "cell_type": "code",
      "source": [
        "#Operadores Logicos\n",
        "and (retorna True se ambas as declaracoes forem verdadeira)\n",
        "or (retorna True se uma das declaracoes forem verdadeira)\n",
        "not(Inverte o resultado, retorna FALSE se o resultado for verdadeiro)\n"
      ],
      "metadata": {
        "id": "zfZey6S7mySj"
      },
      "execution_count": null,
      "outputs": []
    },
    {
      "cell_type": "code",
      "source": [
        "  lista = [1,2,3,4]\n",
        "  2 in lista\n"
      ],
      "metadata": {
        "colab": {
          "base_uri": "https://localhost:8080/"
        },
        "id": "_881NBovmyhu",
        "outputId": "d1efd942-6e5a-4473-aa57-d7a2b2545b86"
      },
      "execution_count": null,
      "outputs": [
        {
          "output_type": "execute_result",
          "data": {
            "text/plain": [
              "True"
            ]
          },
          "metadata": {},
          "execution_count": 11
        }
      ]
    },
    {
      "cell_type": "code",
      "source": [
        "#operadores de identidade(compara objetos)\n",
        "String_01 = 'Ola mundao'\n",
        "String_02 = 'Ola mundao'\n",
        "\n",
        "type(String_01) == type(String_02)"
      ],
      "metadata": {
        "colab": {
          "base_uri": "https://localhost:8080/"
        },
        "id": "p8mubOA1mytx",
        "outputId": "bc4520fe-7000-4c18-c63a-517f9aae242f"
      },
      "execution_count": null,
      "outputs": [
        {
          "output_type": "execute_result",
          "data": {
            "text/plain": [
              "True"
            ]
          },
          "metadata": {},
          "execution_count": 12
        }
      ]
    },
    {
      "cell_type": "code",
      "source": [
        "type(String_01) is not  type(String_02)"
      ],
      "metadata": {
        "colab": {
          "base_uri": "https://localhost:8080/"
        },
        "id": "ospAoI5ir4y1",
        "outputId": "c9ab73e7-77ac-4862-a9b3-3bd765b4731e"
      },
      "execution_count": null,
      "outputs": [
        {
          "output_type": "execute_result",
          "data": {
            "text/plain": [
              "False"
            ]
          },
          "metadata": {},
          "execution_count": 15
        }
      ]
    },
    {
      "cell_type": "code",
      "source": [
        "#operadores de associacao\n",
        "in (Retorna True se uma sequencia com o valor especifico estiver presente no objeto)\n",
        "not in (retorna True se uma sequencia com o valor especifico nao estiver presente no objeto)\n",
        "\n"
      ],
      "metadata": {
        "colab": {
          "base_uri": "https://localhost:8080/",
          "height": 150
        },
        "id": "Ly1NgBU6r4-m",
        "outputId": "ff561125-a118-4c1e-d7f5-52dde60661f8"
      },
      "execution_count": null,
      "outputs": [
        {
          "output_type": "error",
          "ename": "SyntaxError",
          "evalue": "ignored",
          "traceback": [
            "\u001b[0;36m  File \u001b[0;32m\"<ipython-input-17-222f1f63f363>\"\u001b[0;36m, line \u001b[0;32m2\u001b[0m\n\u001b[0;31m    in (Retorna True se uma sequencia com o valor especifico estiver presente no objeto)\u001b[0m\n\u001b[0m     ^\u001b[0m\n\u001b[0;31mSyntaxError\u001b[0m\u001b[0;31m:\u001b[0m invalid syntax\n"
          ]
        }
      ]
    },
    {
      "cell_type": "code",
      "source": [
        "Lista_Acoes = ['Magalu','Via','Carrefour']\n",
        "'Via'  in Lista_Acoes\n",
        "'Via' not in Lista_Acoes"
      ],
      "metadata": {
        "colab": {
          "base_uri": "https://localhost:8080/"
        },
        "id": "U9oGIOh5r5KB",
        "outputId": "941edf29-9104-4e63-ecb2-c5e37a328715"
      },
      "execution_count": null,
      "outputs": [
        {
          "output_type": "execute_result",
          "data": {
            "text/plain": [
              "False"
            ]
          },
          "metadata": {},
          "execution_count": 23
        }
      ]
    },
    {
      "cell_type": "code",
      "source": [
        "#Manipulando Lista\n",
        "1- append() - para adicionar um item ao final da lista\n",
        "2- len() - Calcular o tamanho da lista\n",
        "3- [] - Acessar posicoes\n",
        "4- del - Excluir um elemento\n",
        "5- clear() - Limpar a Lista\n",
        "6- insert() - Para inserir um item de lista em um indice especificado\n",
        "7- extend() - Anexar elementos de outra lista a lista atual\n",
        "8- remove() - Remove o item especificado\n",
        "9- pop() - Remove o indice especificado \n",
        "10- sort() - Ordenar os valores\n",
        "11- copy() - Faz uma copia da Lista\n",
        "12- index() - Retorna o index do elemento da lista\n"
      ],
      "metadata": {
        "id": "4IuvV32DxMbA"
      },
      "execution_count": null,
      "outputs": []
    },
    {
      "cell_type": "code",
      "source": [
        "Lista_Vazia = []\n",
        "print(Lista_Vazia)"
      ],
      "metadata": {
        "colab": {
          "base_uri": "https://localhost:8080/"
        },
        "id": "ffDfKcNik_S4",
        "outputId": "18a52516-73ab-4fe0-a5a8-25fb40313124"
      },
      "execution_count": null,
      "outputs": [
        {
          "output_type": "stream",
          "name": "stdout",
          "text": [
            "[]\n"
          ]
        }
      ]
    },
    {
      "cell_type": "code",
      "source": [
        "\n",
        "\n",
        "Lista_Vazia.append(1)\n",
        "Lista_Vazia.append(2)\n",
        "Lista_Vazia.append(3)\n",
        "Lista_Vazia.append('valor')\n",
        "\n",
        "\n"
      ],
      "metadata": {
        "id": "il-waNGPlge1"
      },
      "execution_count": null,
      "outputs": []
    },
    {
      "cell_type": "code",
      "source": [
        "Lista_Vazia"
      ],
      "metadata": {
        "colab": {
          "base_uri": "https://localhost:8080/"
        },
        "id": "njfZplJ8lvjS",
        "outputId": "cec410b7-6333-46d1-e9e8-701b6ce41590"
      },
      "execution_count": null,
      "outputs": [
        {
          "output_type": "execute_result",
          "data": {
            "text/plain": [
              "[1,\n",
              " 1,\n",
              " 2,\n",
              " 3,\n",
              " 'teste',\n",
              " 1,\n",
              " 2,\n",
              " 3,\n",
              " 'teste',\n",
              " 1,\n",
              " 2,\n",
              " 3,\n",
              " 'teste',\n",
              " 1,\n",
              " 2,\n",
              " 3,\n",
              " 'teste',\n",
              " 1,\n",
              " 2,\n",
              " 3,\n",
              " 1,\n",
              " 1]"
            ]
          },
          "metadata": {},
          "execution_count": 26
        }
      ]
    },
    {
      "cell_type": "code",
      "source": [
        "len(Lista_Vazia)"
      ],
      "metadata": {
        "colab": {
          "base_uri": "https://localhost:8080/"
        },
        "id": "hShD_WrCqMGs",
        "outputId": "bdd3d9b4-59ab-4dda-914e-5bc03815a9dc"
      },
      "execution_count": null,
      "outputs": [
        {
          "output_type": "execute_result",
          "data": {
            "text/plain": [
              "22"
            ]
          },
          "metadata": {},
          "execution_count": 27
        }
      ]
    },
    {
      "cell_type": "code",
      "source": [
        "#Acessar posicao da lista\n",
        "#comeca do zero\n",
        "Lista_Vazia[0]"
      ],
      "metadata": {
        "colab": {
          "base_uri": "https://localhost:8080/"
        },
        "id": "9Pokbp5IqUYg",
        "outputId": "ef294296-397a-4836-843f-aeadf4fa30cf"
      },
      "execution_count": null,
      "outputs": [
        {
          "output_type": "execute_result",
          "data": {
            "text/plain": [
              "1"
            ]
          },
          "metadata": {},
          "execution_count": 28
        }
      ]
    },
    {
      "cell_type": "code",
      "source": [
        "#range\n",
        "Lista_Vazia[0:2]"
      ],
      "metadata": {
        "colab": {
          "base_uri": "https://localhost:8080/"
        },
        "id": "JssG7QNrqUlL",
        "outputId": "a3fc0dfb-8f09-4222-80ac-030cb07778c1"
      },
      "execution_count": null,
      "outputs": [
        {
          "output_type": "execute_result",
          "data": {
            "text/plain": [
              "[1, 1]"
            ]
          },
          "metadata": {},
          "execution_count": 29
        }
      ]
    },
    {
      "cell_type": "code",
      "source": [
        "#Comando Clear\n",
        "print(Lista_Vazia)\n",
        "Lista_Vazia.clear()\n",
        "print(Lista_Vazia)"
      ],
      "metadata": {
        "colab": {
          "base_uri": "https://localhost:8080/"
        },
        "id": "IL26rho7qUvB",
        "outputId": "bdf1fe3d-64fa-4208-ed2d-6377e981b5b0"
      },
      "execution_count": null,
      "outputs": [
        {
          "output_type": "stream",
          "name": "stdout",
          "text": [
            "[1, 1, 2, 3, 'teste', 1, 2, 3, 'teste', 1, 2, 3, 'teste', 1, 2, 3, 'teste', 1, 2, 3, 1, 1]\n",
            "[]\n"
          ]
        }
      ]
    },
    {
      "cell_type": "code",
      "source": [
        "Lista_Vazia\n"
      ],
      "metadata": {
        "colab": {
          "base_uri": "https://localhost:8080/"
        },
        "id": "F9A8a1bjqU2f",
        "outputId": "ce1ec099-66b1-457a-b8b1-46ae29abdefe"
      },
      "execution_count": null,
      "outputs": [
        {
          "output_type": "execute_result",
          "data": {
            "text/plain": [
              "[1, 2, 3, 'valor']"
            ]
          },
          "metadata": {},
          "execution_count": 32
        }
      ]
    },
    {
      "cell_type": "code",
      "source": [
        "#com o INSERT vc escolhe em qual posicao vc quer inserir o valor\n",
        "#Conforme exemplo abaixo, primeiro posicao e depois valor.\n",
        "Lista_Vazia.insert(4, '4')\n",
        "Lista_Vazia"
      ],
      "metadata": {
        "colab": {
          "base_uri": "https://localhost:8080/"
        },
        "id": "ketfc4e5qU90",
        "outputId": "59acf9e4-7a18-4549-a21d-b1ba52e9b1cd"
      },
      "execution_count": null,
      "outputs": [
        {
          "output_type": "execute_result",
          "data": {
            "text/plain": [
              "['0', 1, 2, 3, '4', 'valor', '5']"
            ]
          },
          "metadata": {},
          "execution_count": 35
        }
      ]
    },
    {
      "cell_type": "code",
      "source": [
        "#extend\n",
        "Lista_01 = [1,2,3]\n",
        "Lista_02 = [4,5,6]\n",
        "Lista_01.extend(Lista_02)"
      ],
      "metadata": {
        "id": "ZlgJNr89qVGg"
      },
      "execution_count": null,
      "outputs": []
    },
    {
      "cell_type": "code",
      "source": [
        "Lista_01"
      ],
      "metadata": {
        "colab": {
          "base_uri": "https://localhost:8080/"
        },
        "id": "q0E9bpNvqVOj",
        "outputId": "c10be828-2942-4400-90bb-915a44a9f4d7"
      },
      "execution_count": null,
      "outputs": [
        {
          "output_type": "execute_result",
          "data": {
            "text/plain": [
              "[1, 2, 3, 4, 5, 6]"
            ]
          },
          "metadata": {},
          "execution_count": 39
        }
      ]
    },
    {
      "cell_type": "code",
      "source": [
        "#remove valor\n",
        "Lista_01.remove(5)\n",
        "Lista_01"
      ],
      "metadata": {
        "colab": {
          "base_uri": "https://localhost:8080/"
        },
        "id": "fk6hjMtnqVWI",
        "outputId": "d3c5cf02-17a4-4650-e885-779a9f4128e9"
      },
      "execution_count": null,
      "outputs": [
        {
          "output_type": "execute_result",
          "data": {
            "text/plain": [
              "[1, 2, 3, 4, 6]"
            ]
          },
          "metadata": {},
          "execution_count": 40
        }
      ]
    },
    {
      "cell_type": "code",
      "source": [
        "#remove posicao\n",
        "Lista_01.pop(0)\n",
        "Lista_01"
      ],
      "metadata": {
        "colab": {
          "base_uri": "https://localhost:8080/"
        },
        "id": "n0NCphDWqVdn",
        "outputId": "f55760cd-fc0e-4a08-b755-8519cfc39e2e"
      },
      "execution_count": null,
      "outputs": [
        {
          "output_type": "execute_result",
          "data": {
            "text/plain": [
              "[2, 3, 4, 6]"
            ]
          },
          "metadata": {},
          "execution_count": 41
        }
      ]
    },
    {
      "cell_type": "code",
      "source": [
        "#Ordenando uma lista\n",
        "Lista_ABC = ['z','c','f','H','A']\n",
        "Lista_ABC.sort()\n",
        "Lista_ABC"
      ],
      "metadata": {
        "colab": {
          "base_uri": "https://localhost:8080/"
        },
        "id": "XUjiOkDWqVlM",
        "outputId": "380e22ab-fbdc-402e-8fe7-5c1a78c16040"
      },
      "execution_count": null,
      "outputs": [
        {
          "output_type": "execute_result",
          "data": {
            "text/plain": [
              "['A', 'H', 'c', 'f', 'z']"
            ]
          },
          "metadata": {},
          "execution_count": 44
        }
      ]
    },
    {
      "cell_type": "code",
      "source": [
        "#Ordena descrecendo\n",
        "Lista_ABC.sort(reverse=True)\n",
        "Lista_ABC"
      ],
      "metadata": {
        "colab": {
          "base_uri": "https://localhost:8080/"
        },
        "id": "x6lvyWatqVsy",
        "outputId": "b0a200ea-42b0-4486-a723-b439711703dd"
      },
      "execution_count": null,
      "outputs": [
        {
          "output_type": "execute_result",
          "data": {
            "text/plain": [
              "['z', 'f', 'c', 'H', 'A']"
            ]
          },
          "metadata": {},
          "execution_count": 45
        }
      ]
    },
    {
      "cell_type": "code",
      "source": [
        "#COPIAR UMA LISTA\n",
        "Lista_Nova = Lista_ABC.copy()\n",
        "Lista_Nova"
      ],
      "metadata": {
        "colab": {
          "base_uri": "https://localhost:8080/"
        },
        "id": "xQLh6W_pqV0u",
        "outputId": "1e7252a5-b301-44b5-c008-4cd755d0c641"
      },
      "execution_count": null,
      "outputs": [
        {
          "output_type": "execute_result",
          "data": {
            "text/plain": [
              "['z', 'f', 'c', 'H', 'A']"
            ]
          },
          "metadata": {},
          "execution_count": 46
        }
      ]
    },
    {
      "cell_type": "code",
      "source": [
        "#identifica a posicao do elemento na lista\n",
        "Lista_Nova.index('H')\n"
      ],
      "metadata": {
        "colab": {
          "base_uri": "https://localhost:8080/"
        },
        "id": "zGGKH0VxqV8X",
        "outputId": "3ec61b31-5fbe-4d89-c13b-fda911b719f4"
      },
      "execution_count": null,
      "outputs": [
        {
          "output_type": "execute_result",
          "data": {
            "text/plain": [
              "3"
            ]
          },
          "metadata": {},
          "execution_count": 47
        }
      ]
    },
    {
      "cell_type": "code",
      "source": [
        "#pacote externo (script prontos)\n",
        "import datetime "
      ],
      "metadata": {
        "id": "W9n2ixM3qWDu"
      },
      "execution_count": null,
      "outputs": []
    },
    {
      "cell_type": "code",
      "source": [
        "Dia_Hoje = datetime.datetime.today()\n",
        "print(Dia_Hoje)"
      ],
      "metadata": {
        "id": "kFzbZ1alqWMA",
        "colab": {
          "base_uri": "https://localhost:8080/"
        },
        "outputId": "3a0d7dfc-1b97-4a8e-8fa9-1802a7742cfc"
      },
      "execution_count": null,
      "outputs": [
        {
          "output_type": "stream",
          "name": "stdout",
          "text": [
            "2022-03-29 16:43:55.180525\n"
          ]
        }
      ]
    },
    {
      "cell_type": "code",
      "source": [
        "print(datetime.datetime.today().date())"
      ],
      "metadata": {
        "id": "q9TqOVHzqWTr",
        "colab": {
          "base_uri": "https://localhost:8080/"
        },
        "outputId": "901f7143-bfb7-42b8-cecf-da4cafe303e7"
      },
      "execution_count": null,
      "outputs": [
        {
          "output_type": "stream",
          "name": "stdout",
          "text": [
            "2022-03-29\n"
          ]
        }
      ]
    },
    {
      "cell_type": "code",
      "source": [
        "Data = datetime.datetime.today().date()"
      ],
      "metadata": {
        "id": "-RtCY6OYqWbc"
      },
      "execution_count": null,
      "outputs": []
    },
    {
      "cell_type": "code",
      "source": [
        "Ano = Data.year\n",
        "Mes = Data.month\n",
        "Dia = Data.day\n",
        "\n",
        "print(Dia)\n",
        "print(Mes)\n",
        "print(Ano)"
      ],
      "metadata": {
        "colab": {
          "base_uri": "https://localhost:8080/"
        },
        "id": "hArWzA4mk87P",
        "outputId": "3edf35aa-e7da-4132-d69a-0e759f05732f"
      },
      "execution_count": null,
      "outputs": [
        {
          "output_type": "stream",
          "name": "stdout",
          "text": [
            "29\n",
            "3\n",
            "2022\n"
          ]
        }
      ]
    },
    {
      "cell_type": "code",
      "source": [
        "Data_Antiga = datetime.date(2022, 1, 1)"
      ],
      "metadata": {
        "id": "S3DerSFXk27U"
      },
      "execution_count": null,
      "outputs": []
    },
    {
      "cell_type": "code",
      "source": [
        "Data - Data_Antiga"
      ],
      "metadata": {
        "colab": {
          "base_uri": "https://localhost:8080/"
        },
        "id": "3Ld2izJ6k3QK",
        "outputId": "0b9c1945-98c9-4573-f7a5-b230ebe8693a"
      },
      "execution_count": null,
      "outputs": [
        {
          "output_type": "execute_result",
          "data": {
            "text/plain": [
              "datetime.timedelta(days=87)"
            ]
          },
          "metadata": {},
          "execution_count": 13
        }
      ]
    },
    {
      "cell_type": "code",
      "source": [
        "Data.strftime('%d/%m/%y')"
      ],
      "metadata": {
        "colab": {
          "base_uri": "https://localhost:8080/",
          "height": 35
        },
        "id": "yjRMIt6Dk3YN",
        "outputId": "f32df545-427d-41b6-df83-5ad0e7d85298"
      },
      "execution_count": null,
      "outputs": [
        {
          "output_type": "execute_result",
          "data": {
            "text/plain": [
              "'29/03/22'"
            ],
            "application/vnd.google.colaboratory.intrinsic+json": {
              "type": "string"
            }
          },
          "metadata": {},
          "execution_count": 18
        }
      ]
    },
    {
      "cell_type": "code",
      "source": [
        "Data + datetime.timedelta(days=30)"
      ],
      "metadata": {
        "colab": {
          "base_uri": "https://localhost:8080/"
        },
        "id": "Cc2Z4Zb9k3iK",
        "outputId": "905eeb4d-3b22-41f3-a6fa-6a4aad8211f5"
      },
      "execution_count": null,
      "outputs": [
        {
          "output_type": "execute_result",
          "data": {
            "text/plain": [
              "datetime.date(2022, 4, 28)"
            ]
          },
          "metadata": {},
          "execution_count": 19
        }
      ]
    },
    {
      "cell_type": "code",
      "source": [
        "#pacote TIME\n",
        "import time"
      ],
      "metadata": {
        "id": "RG8y_QUAk3tz"
      },
      "execution_count": null,
      "outputs": []
    },
    {
      "cell_type": "code",
      "source": [
        "print('Comecei agora...')\n",
        "time.sleep(3)\n",
        "print('Terminei')"
      ],
      "metadata": {
        "colab": {
          "base_uri": "https://localhost:8080/"
        },
        "id": "LwxhOc6Yr_Fp",
        "outputId": "38a3c226-1b93-4393-ba88-5a137757f285"
      },
      "execution_count": null,
      "outputs": [
        {
          "output_type": "stream",
          "name": "stdout",
          "text": [
            "Comecei agora...\n",
            "Terminei\n"
          ]
        }
      ]
    },
    {
      "cell_type": "code",
      "source": [
        "Agora = time.localtime()\n",
        "print( Agora )\n",
        "print( type(Agora))"
      ],
      "metadata": {
        "colab": {
          "base_uri": "https://localhost:8080/"
        },
        "id": "c1QoDh_sr_WB",
        "outputId": "9c7e8a55-47c4-44cc-a3ec-ae923e9438c0"
      },
      "execution_count": null,
      "outputs": [
        {
          "output_type": "stream",
          "name": "stdout",
          "text": [
            "time.struct_time(tm_year=2022, tm_mon=3, tm_mday=29, tm_hour=17, tm_min=26, tm_sec=7, tm_wday=1, tm_yday=88, tm_isdst=0)\n",
            "<class 'time.struct_time'>\n"
          ]
        }
      ]
    },
    {
      "cell_type": "code",
      "source": [
        "time.strftime('%d/%m/%y, %H:%M:%S', Agora)"
      ],
      "metadata": {
        "colab": {
          "base_uri": "https://localhost:8080/",
          "height": 35
        },
        "id": "T6DwPWo7r_eB",
        "outputId": "166f1b5d-e162-4a5c-fc3f-4a5d9fce3b15"
      },
      "execution_count": null,
      "outputs": [
        {
          "output_type": "execute_result",
          "data": {
            "text/plain": [
              "'29/03/22, 17:26:07'"
            ],
            "application/vnd.google.colaboratory.intrinsic+json": {
              "type": "string"
            }
          },
          "metadata": {},
          "execution_count": 26
        }
      ]
    },
    {
      "cell_type": "code",
      "source": [
        "Time_Texto = '21 June, 2021'\n",
        "time.strptime(Time_Texto, '%d %B, %Y')"
      ],
      "metadata": {
        "colab": {
          "base_uri": "https://localhost:8080/"
        },
        "id": "W5TAixjkr_mr",
        "outputId": "c7ed34b8-6f39-458c-b741-eaa5c184c21c"
      },
      "execution_count": null,
      "outputs": [
        {
          "output_type": "execute_result",
          "data": {
            "text/plain": [
              "time.struct_time(tm_year=2021, tm_mon=6, tm_mday=21, tm_hour=0, tm_min=0, tm_sec=0, tm_wday=0, tm_yday=172, tm_isdst=-1)"
            ]
          },
          "metadata": {},
          "execution_count": 30
        }
      ]
    },
    {
      "cell_type": "code",
      "source": [
        "#pacote Math\n",
        "import math"
      ],
      "metadata": {
        "id": "rVSUeUhlr_vm"
      },
      "execution_count": null,
      "outputs": []
    },
    {
      "cell_type": "code",
      "source": [
        "Tupla =(10,5,20,30,40)"
      ],
      "metadata": {
        "id": "vV8Y8OP2r_4G"
      },
      "execution_count": null,
      "outputs": []
    },
    {
      "cell_type": "code",
      "source": [
        "min(Tupla)"
      ],
      "metadata": {
        "colab": {
          "base_uri": "https://localhost:8080/"
        },
        "id": "-k3ebtMisAAG",
        "outputId": "c640714b-8956-4a04-a18a-0a059f1757e1"
      },
      "execution_count": null,
      "outputs": [
        {
          "output_type": "execute_result",
          "data": {
            "text/plain": [
              "5"
            ]
          },
          "metadata": {},
          "execution_count": 33
        }
      ]
    },
    {
      "cell_type": "code",
      "source": [
        "max(Tupla)"
      ],
      "metadata": {
        "colab": {
          "base_uri": "https://localhost:8080/"
        },
        "id": "B-53pC4tsAIM",
        "outputId": "ae4835b6-45b4-4d4c-f46c-407937cf4e3d"
      },
      "execution_count": null,
      "outputs": [
        {
          "output_type": "execute_result",
          "data": {
            "text/plain": [
              "40"
            ]
          },
          "metadata": {},
          "execution_count": 34
        }
      ]
    },
    {
      "cell_type": "code",
      "source": [
        "abs(-7.25)"
      ],
      "metadata": {
        "colab": {
          "base_uri": "https://localhost:8080/"
        },
        "id": "P9lrsDhQsAQJ",
        "outputId": "4c057782-1261-4638-f9c6-8121707d8a39"
      },
      "execution_count": null,
      "outputs": [
        {
          "output_type": "execute_result",
          "data": {
            "text/plain": [
              "7.25"
            ]
          },
          "metadata": {},
          "execution_count": 35
        }
      ]
    },
    {
      "cell_type": "code",
      "source": [
        "pow(3,4) # 3*3*3*3"
      ],
      "metadata": {
        "colab": {
          "base_uri": "https://localhost:8080/"
        },
        "id": "PrZ-3TvpsAYl",
        "outputId": "90412dd7-c100-49f5-87bd-cef6ab2cb6f8"
      },
      "execution_count": null,
      "outputs": [
        {
          "output_type": "execute_result",
          "data": {
            "text/plain": [
              "81"
            ]
          },
          "metadata": {},
          "execution_count": 36
        }
      ]
    },
    {
      "cell_type": "code",
      "source": [
        "math.sqrt(81)"
      ],
      "metadata": {
        "colab": {
          "base_uri": "https://localhost:8080/"
        },
        "id": "dbQzKvFEsAil",
        "outputId": "7a34f1cb-bc26-4914-9cea-e175f68d3912"
      },
      "execution_count": null,
      "outputs": [
        {
          "output_type": "execute_result",
          "data": {
            "text/plain": [
              "9.0"
            ]
          },
          "metadata": {},
          "execution_count": 37
        }
      ]
    },
    {
      "cell_type": "code",
      "source": [
        "math.ceil(1.4) #arredondamento para cima"
      ],
      "metadata": {
        "colab": {
          "base_uri": "https://localhost:8080/"
        },
        "id": "eYRXqPFCsAtu",
        "outputId": "045b27dd-bf5b-4b23-fdfc-70d5a5fe0775"
      },
      "execution_count": null,
      "outputs": [
        {
          "output_type": "execute_result",
          "data": {
            "text/plain": [
              "2"
            ]
          },
          "metadata": {},
          "execution_count": 38
        }
      ]
    },
    {
      "cell_type": "code",
      "source": [
        "math.floor(1.4)  #arredondamento para baixo\n"
      ],
      "metadata": {
        "colab": {
          "base_uri": "https://localhost:8080/"
        },
        "id": "Oo0gdOPk0Gmr",
        "outputId": "17589e87-7433-4250-fa2d-14b078ce37db"
      },
      "execution_count": null,
      "outputs": [
        {
          "output_type": "execute_result",
          "data": {
            "text/plain": [
              "1"
            ]
          },
          "metadata": {},
          "execution_count": 40
        }
      ]
    },
    {
      "cell_type": "code",
      "source": [
        "math.pi"
      ],
      "metadata": {
        "colab": {
          "base_uri": "https://localhost:8080/"
        },
        "id": "CRr3LLTW0G0y",
        "outputId": "309d0ce4-f813-4667-944f-a9c8b402810b"
      },
      "execution_count": null,
      "outputs": [
        {
          "output_type": "execute_result",
          "data": {
            "text/plain": [
              "3.141592653589793"
            ]
          },
          "metadata": {},
          "execution_count": 41
        }
      ]
    },
    {
      "cell_type": "code",
      "source": [
        "#pacote random\n",
        "import random"
      ],
      "metadata": {
        "id": "LbaDW-980HAe"
      },
      "execution_count": null,
      "outputs": []
    },
    {
      "cell_type": "code",
      "source": [
        "Lista = [1,2,3,4,5,6,7,8]"
      ],
      "metadata": {
        "id": "JPK1Csgp0HNQ"
      },
      "execution_count": null,
      "outputs": []
    },
    {
      "cell_type": "code",
      "source": [
        "random.choice(Lista)"
      ],
      "metadata": {
        "colab": {
          "base_uri": "https://localhost:8080/"
        },
        "id": "sKOpxjy-k310",
        "outputId": "c276f925-f9b2-463e-bde5-5302bd986974"
      },
      "execution_count": null,
      "outputs": [
        {
          "output_type": "execute_result",
          "data": {
            "text/plain": [
              "3"
            ]
          },
          "metadata": {},
          "execution_count": 47
        }
      ]
    },
    {
      "cell_type": "code",
      "source": [
        "Palavra = 'Luiz'\n",
        "random.choice( Palavra )"
      ],
      "metadata": {
        "colab": {
          "base_uri": "https://localhost:8080/",
          "height": 35
        },
        "id": "V9sjxhHS-COj",
        "outputId": "e498f7fc-86c7-4e1f-9373-12fc53873998"
      },
      "execution_count": null,
      "outputs": [
        {
          "output_type": "execute_result",
          "data": {
            "text/plain": [
              "'u'"
            ],
            "application/vnd.google.colaboratory.intrinsic+json": {
              "type": "string"
            }
          },
          "metadata": {},
          "execution_count": 52
        }
      ]
    },
    {
      "cell_type": "code",
      "source": [
        "random.randint(0,1000) #gera um valor entre 0 e 10"
      ],
      "metadata": {
        "colab": {
          "base_uri": "https://localhost:8080/"
        },
        "id": "ODH6aRM2-Cbd",
        "outputId": "33492a85-b2f9-4243-cb5a-1b127461f259"
      },
      "execution_count": null,
      "outputs": [
        {
          "output_type": "execute_result",
          "data": {
            "text/plain": [
              "873"
            ]
          },
          "metadata": {},
          "execution_count": 57
        }
      ]
    },
    {
      "cell_type": "code",
      "source": [
        "#pacote Statistics\n",
        "import statistics"
      ],
      "metadata": {
        "id": "0iCxuI2J-CmG"
      },
      "execution_count": null,
      "outputs": []
    },
    {
      "cell_type": "code",
      "source": [
        "Lista = [12,15,28,31,56,78,78,88]"
      ],
      "metadata": {
        "id": "-MwWJV9x-Cvt"
      },
      "execution_count": null,
      "outputs": []
    },
    {
      "cell_type": "code",
      "source": [
        "statistics.mean(Lista) # a media"
      ],
      "metadata": {
        "colab": {
          "base_uri": "https://localhost:8080/"
        },
        "id": "LvO7gcwb-C6q",
        "outputId": "bcc9c93a-8cec-48ce-ba8d-634962ff4706"
      },
      "execution_count": null,
      "outputs": [
        {
          "output_type": "execute_result",
          "data": {
            "text/plain": [
              "48.25"
            ]
          },
          "metadata": {},
          "execution_count": 70
        }
      ]
    },
    {
      "cell_type": "code",
      "source": [
        "statistics.median(Lista) # a mediana"
      ],
      "metadata": {
        "colab": {
          "base_uri": "https://localhost:8080/"
        },
        "id": "c3W26NDb-DDm",
        "outputId": "7834bb64-4643-4457-ef6a-3415c3d9c383"
      },
      "execution_count": null,
      "outputs": [
        {
          "output_type": "execute_result",
          "data": {
            "text/plain": [
              "31"
            ]
          },
          "metadata": {},
          "execution_count": 73
        }
      ]
    },
    {
      "cell_type": "code",
      "source": [
        "statistics.mode(Lista) #a moda"
      ],
      "metadata": {
        "colab": {
          "base_uri": "https://localhost:8080/"
        },
        "id": "O5OcgIkV-DLP",
        "outputId": "ca7d474a-135c-4bfe-dc57-38d65fcde657"
      },
      "execution_count": null,
      "outputs": [
        {
          "output_type": "execute_result",
          "data": {
            "text/plain": [
              "78"
            ]
          },
          "metadata": {},
          "execution_count": 67
        }
      ]
    },
    {
      "cell_type": "code",
      "source": [
        "#Condicao IF\n",
        "#se a pessoa tiver menos de 18 nao entra\n",
        "Idade = 15 \n",
        "if Idade >= 18:\n",
        "  print('Maior de Idade!')"
      ],
      "metadata": {
        "id": "vDnBAgwL-DRn"
      },
      "execution_count": null,
      "outputs": []
    },
    {
      "cell_type": "code",
      "source": [
        "#Condicao IF\n",
        "#Condicao Else\n",
        "Idade = 22 \n",
        "if Idade >= 18:\n",
        "  print('Maior de Idade!')\n",
        "else:\n",
        "  print('Menor de Idade!')  "
      ],
      "metadata": {
        "colab": {
          "base_uri": "https://localhost:8080/"
        },
        "id": "eRa8IjEt-DfL",
        "outputId": "68246d5f-93af-4c7c-e46e-7e30246bd643"
      },
      "execution_count": null,
      "outputs": [
        {
          "output_type": "stream",
          "name": "stdout",
          "text": [
            "Maior de Idade!\n"
          ]
        }
      ]
    },
    {
      "cell_type": "code",
      "source": [
        "#Condicao IF\n",
        "#Condicao Else\n",
        "#Condicao elif\n",
        "Idade = 50 \n",
        "if Idade >= 18 and Idade <= 64:\n",
        "  print('Maior de Idade!')\n",
        "elif Idade >= 15 and Idade <= 17:\n",
        "  print('Pode entrar com a autorizacao dos Pais')\n",
        "elif Idade >= 65:\n",
        "  print('So Acompanhado')\n",
        "else:\n",
        "  print('Menor de Idade!') "
      ],
      "metadata": {
        "colab": {
          "base_uri": "https://localhost:8080/"
        },
        "id": "N8xyBReV-DqJ",
        "outputId": "c2f8a5f0-f1c0-48a9-a78d-720e9184a867"
      },
      "execution_count": null,
      "outputs": [
        {
          "output_type": "stream",
          "name": "stdout",
          "text": [
            "Maior de Idade!\n"
          ]
        }
      ]
    },
    {
      "cell_type": "code",
      "source": [
        "#Estrutura de loop FOR\n",
        "for QualquerCoisaQueQuiser in range(10):\n",
        "\n",
        "  print(QualquerCoisaQueQuiser )"
      ],
      "metadata": {
        "id": "3_JmUdec-D0t",
        "colab": {
          "base_uri": "https://localhost:8080/"
        },
        "outputId": "d9bc5979-4b57-4b37-a8e2-283476cd122c"
      },
      "execution_count": null,
      "outputs": [
        {
          "output_type": "stream",
          "name": "stdout",
          "text": [
            "0\n",
            "1\n",
            "2\n",
            "3\n",
            "4\n",
            "5\n",
            "6\n",
            "7\n",
            "8\n",
            "9\n"
          ]
        }
      ]
    },
    {
      "cell_type": "code",
      "source": [
        "  #Estrutura de loop FOR\n",
        "for QualquerCoisa in range(1,100,5):\n",
        "   print(QualquerCoisa)"
      ],
      "metadata": {
        "id": "b6ZREhz7-EAC",
        "colab": {
          "base_uri": "https://localhost:8080/"
        },
        "outputId": "ca146320-47e4-4635-b300-2d347c792f93"
      },
      "execution_count": null,
      "outputs": [
        {
          "output_type": "stream",
          "name": "stdout",
          "text": [
            "1\n",
            "6\n",
            "11\n",
            "16\n",
            "21\n",
            "26\n",
            "31\n",
            "36\n",
            "41\n",
            "46\n",
            "51\n",
            "56\n",
            "61\n",
            "66\n",
            "71\n",
            "76\n",
            "81\n",
            "86\n",
            "91\n",
            "96\n"
          ]
        }
      ]
    },
    {
      "cell_type": "code",
      "source": [
        "Lista = ['Brasil','Argentina','Uruguai','Paraguai','Bolivia','Colombia','Chile']\n",
        "for QualquerCoisaQueQuiser in Lista:\n",
        "  #print( QualquerCoisaQueQuiser )\n",
        "  #print( QualquerCoisaQueQuiser.upper() )\n",
        "  print( QualquerCoisaQueQuiser.upper()[0:3] )"
      ],
      "metadata": {
        "id": "6wHA1oLY-EIw",
        "colab": {
          "base_uri": "https://localhost:8080/"
        },
        "outputId": "335ca0d9-0c77-4953-8de0-993e112375ba"
      },
      "execution_count": null,
      "outputs": [
        {
          "output_type": "stream",
          "name": "stdout",
          "text": [
            "BRA\n",
            "ARG\n",
            "URU\n",
            "PAR\n",
            "BOL\n",
            "COL\n",
            "CHI\n"
          ]
        }
      ]
    },
    {
      "cell_type": "code",
      "source": [
        "Lista = ['Brasil','Argentina','Uruguai','Paraguai','Bolivia','Colombia','Chile']\n",
        "for Pais in Lista:\n",
        "  \n",
        "  if Pais == 'Uruguai':\n",
        "    print( 'BI campeao da Copa')\n",
        "\n",
        "    for AlgumaCoisa in range(10):\n",
        "       print( AlgumaCoisa  )"
      ],
      "metadata": {
        "colab": {
          "base_uri": "https://localhost:8080/"
        },
        "id": "tpMa63fOIP0A",
        "outputId": "165d41b8-1182-45fc-95d0-75a50e3c3d29"
      },
      "execution_count": null,
      "outputs": [
        {
          "output_type": "stream",
          "name": "stdout",
          "text": [
            "BI campeao da Copa\n",
            "0\n",
            "1\n",
            "2\n",
            "3\n",
            "4\n",
            "5\n",
            "6\n",
            "7\n",
            "8\n",
            "9\n"
          ]
        }
      ]
    },
    {
      "cell_type": "code",
      "source": [
        "for Loop in range(0,len(Lista),2):#exibi de dois em dois\n",
        "  print(Lista[Loop] )"
      ],
      "metadata": {
        "colab": {
          "base_uri": "https://localhost:8080/"
        },
        "id": "-KiBCF7ZIQD1",
        "outputId": "4394ec97-95f8-4075-b6aa-b057d88e887e"
      },
      "execution_count": null,
      "outputs": [
        {
          "output_type": "stream",
          "name": "stdout",
          "text": [
            "Brasil\n",
            "Uruguai\n",
            "Bolivia\n",
            "Chile\n"
          ]
        }
      ]
    },
    {
      "cell_type": "code",
      "source": [
        "#enumerate enumera a lista\n",
        "for Index, Pais in enumerate(Lista):\n",
        "  print (Index, Pais)"
      ],
      "metadata": {
        "colab": {
          "base_uri": "https://localhost:8080/"
        },
        "id": "cprAudfuIQRB",
        "outputId": "49dc5e19-3d05-4811-b63c-64f685585c58"
      },
      "execution_count": null,
      "outputs": [
        {
          "output_type": "stream",
          "name": "stdout",
          "text": [
            "0 Brasil\n",
            "1 Argentina\n",
            "2 Uruguai\n",
            "3 Paraguai\n",
            "4 Bolivia\n",
            "5 Colombia\n",
            "6 Chile\n"
          ]
        }
      ]
    },
    {
      "cell_type": "code",
      "source": [
        "[Numero for Numero in range(0, 10, 2)#pula de 2 em dois\n",
        "[0,2,4,6,8]"
      ],
      "metadata": {
        "id": "MgrYp1gpIQaC",
        "colab": {
          "base_uri": "https://localhost:8080/"
        },
        "outputId": "4da7755f-d033-4dd3-db9d-965e112ecb3d"
      },
      "execution_count": null,
      "outputs": [
        {
          "output_type": "execute_result",
          "data": {
            "text/plain": [
              "[0, 2, 4, 6, 8]"
            ]
          },
          "metadata": {},
          "execution_count": 1
        }
      ]
    },
    {
      "cell_type": "code",
      "source": [
        "#estrutura WHILE\n",
        "Parar = 0\n",
        "\n",
        "while Parar <=10:\n",
        "  print( Parar )\n",
        "  Parar += 1"
      ],
      "metadata": {
        "id": "VXIUkMgdIQiZ",
        "colab": {
          "base_uri": "https://localhost:8080/"
        },
        "outputId": "33a1a6cb-f979-4bd5-cd5a-2bd32aed7daa"
      },
      "execution_count": null,
      "outputs": [
        {
          "output_type": "stream",
          "name": "stdout",
          "text": [
            "0\n",
            "1\n",
            "2\n",
            "3\n",
            "4\n",
            "5\n",
            "6\n",
            "7\n",
            "8\n",
            "9\n",
            "10\n"
          ]
        }
      ]
    },
    {
      "cell_type": "code",
      "source": [
        "Parar= 0\n",
        "\n",
        "while Parar <= 10 :\n",
        "  print( Parar )\n",
        "  Parar += 1"
      ],
      "metadata": {
        "id": "nIbg44qTgg9w",
        "colab": {
          "base_uri": "https://localhost:8080/"
        },
        "outputId": "0745d70e-51fe-4786-f82a-abcc64dadac6"
      },
      "execution_count": null,
      "outputs": [
        {
          "output_type": "stream",
          "name": "stdout",
          "text": [
            "0\n",
            "1\n",
            "2\n",
            "3\n",
            "4\n",
            "5\n",
            "6\n",
            "7\n",
            "8\n",
            "9\n",
            "10\n"
          ]
        }
      ]
    },
    {
      "cell_type": "code",
      "source": [
        " #joginho\n",
        " import random\n",
        "\n",
        " while True: \n",
        "    \n",
        "   Eu = random.randint(0, 10)\n",
        "   Contra_Voces = random.randint(0, 10)\n",
        "\n",
        "   print('Eu tirei o valor', Eu )\n",
        "   print('Vcs tiraram o', Contra_Voces )\n",
        "\n",
        "   if Eu > Contra_Voces:\n",
        "     print('Ganhei!!!')\n",
        "     break\n",
        "\n",
        "\n",
        "   print('\\n')"
      ],
      "metadata": {
        "id": "54leoIE7ghji",
        "colab": {
          "base_uri": "https://localhost:8080/"
        },
        "outputId": "e23db0be-c0ad-4c97-9922-de158c5d08b2"
      },
      "execution_count": null,
      "outputs": [
        {
          "output_type": "stream",
          "name": "stdout",
          "text": [
            "Eu tirei o valor 1\n",
            "Vcs tiraram o 8\n",
            "\n",
            "\n",
            "Eu tirei o valor 5\n",
            "Vcs tiraram o 2\n",
            "Ganhei!!!\n"
          ]
        }
      ]
    },
    {
      "cell_type": "code",
      "source": [
        "#break\n",
        "Lista = ['Morango', 'Pera', 'Uva', 'Abacaxi']\n",
        " \n",
        "for Fruta in Lista:\n",
        " \n",
        "  print( Fruta )\n",
        " \n",
        "  if Fruta == 'Uva':\n",
        "    break"
      ],
      "metadata": {
        "id": "oYLQqYHzghyL",
        "colab": {
          "base_uri": "https://localhost:8080/"
        },
        "outputId": "361c02a8-7612-4218-8fcb-a85e2a964dfc"
      },
      "execution_count": null,
      "outputs": [
        {
          "output_type": "stream",
          "name": "stdout",
          "text": [
            "Morango\n",
            "Pera\n",
            "Uva\n"
          ]
        }
      ]
    },
    {
      "cell_type": "code",
      "source": [
        "#Continue\n",
        "for Loop in range(0, 11):\n",
        "  if Loop == 5:\n",
        "     continue\n",
        "     print('Cheguei aqui mais vou ser ignorado!')\n",
        "  print( Loop )   \n"
      ],
      "metadata": {
        "id": "S5PRLrCF-ERi",
        "colab": {
          "base_uri": "https://localhost:8080/"
        },
        "outputId": "99f8c591-e42b-4aae-bad9-26faf675e0fd"
      },
      "execution_count": null,
      "outputs": [
        {
          "output_type": "stream",
          "name": "stdout",
          "text": [
            "0\n",
            "1\n",
            "2\n",
            "3\n",
            "4\n",
            "6\n",
            "7\n",
            "8\n",
            "9\n",
            "10\n"
          ]
        }
      ]
    },
    {
      "cell_type": "code",
      "source": [
        "#Funcao\n",
        "def Boas_Vindas():\n",
        "  print('*********** PYTHON ************')"
      ],
      "metadata": {
        "id": "bL2CYKhydoNS"
      },
      "execution_count": null,
      "outputs": []
    },
    {
      "cell_type": "code",
      "source": [
        "Boas_Vindas()"
      ],
      "metadata": {
        "colab": {
          "base_uri": "https://localhost:8080/"
        },
        "id": "Tplqx8TPdolt",
        "outputId": "e80ac177-da9e-40d8-87f9-2eba1336aab5"
      },
      "execution_count": null,
      "outputs": [
        {
          "output_type": "stream",
          "name": "stdout",
          "text": [
            "*********** PYTHON ************\n"
          ]
        }
      ]
    },
    {
      "cell_type": "code",
      "source": [
        "#soma\n",
        "def Somar(Valor_1, Valor_2):\n",
        "  Soma = Valor_1 + Valor_2\n",
        "  print( Soma )"
      ],
      "metadata": {
        "id": "Gx-ETNpVdowD"
      },
      "execution_count": null,
      "outputs": []
    },
    {
      "cell_type": "code",
      "source": [
        "for Loop in range(0, 10):\n",
        "  import random\n",
        "\n",
        "  x = random.random()\n",
        "  y = random.random()\n",
        "\n",
        "  Somar(x,y) "
      ],
      "metadata": {
        "colab": {
          "base_uri": "https://localhost:8080/"
        },
        "id": "CJtuUqJ6dpFo",
        "outputId": "ec68914d-8dac-4ecb-f0df-57172d32a6ed"
      },
      "execution_count": null,
      "outputs": [
        {
          "output_type": "stream",
          "name": "stdout",
          "text": [
            "0.43850088071249516\n",
            "0.9681494534179355\n",
            "1.4784543334361469\n",
            "0.6471556774448814\n",
            "0.9176493312543814\n",
            "1.5020385312743483\n",
            "1.3437482557402896\n",
            "0.4412951655900723\n",
            "0.12347439090308998\n",
            "1.3077052106467062\n"
          ]
        }
      ]
    },
    {
      "cell_type": "code",
      "source": [
        "#funcao lambda\n",
        "Funcao_Soma = lambda valor: valor + 10\n"
      ],
      "metadata": {
        "id": "WxlPiNuddpQK"
      },
      "execution_count": null,
      "outputs": []
    },
    {
      "cell_type": "code",
      "source": [
        "Funcao_Soma(1)"
      ],
      "metadata": {
        "id": "4k2Cd3eHdpYG",
        "colab": {
          "base_uri": "https://localhost:8080/"
        },
        "outputId": "13aee5f4-93a0-4700-a210-e32f5c017fef"
      },
      "execution_count": null,
      "outputs": [
        {
          "output_type": "execute_result",
          "data": {
            "text/plain": [
              "11"
            ]
          },
          "metadata": {},
          "execution_count": 2
        }
      ]
    },
    {
      "cell_type": "code",
      "source": [
        "Funcao_soma_02 = lambda valor_1, valor_2 : valor_1 + valor_2"
      ],
      "metadata": {
        "id": "QagYWr3ydpeD"
      },
      "execution_count": null,
      "outputs": []
    },
    {
      "cell_type": "code",
      "source": [
        "Funcao_soma_02(10, 10)"
      ],
      "metadata": {
        "id": "O6jufglldpkV",
        "colab": {
          "base_uri": "https://localhost:8080/"
        },
        "outputId": "1e82142f-24fc-4c56-99ab-84bb2dc9c3e2"
      },
      "execution_count": null,
      "outputs": [
        {
          "output_type": "execute_result",
          "data": {
            "text/plain": [
              "20"
            ]
          },
          "metadata": {},
          "execution_count": 4
        }
      ]
    },
    {
      "cell_type": "code",
      "source": [
        "#diferenca em funcao e lambda\n",
        "def Somar( Valor_1, Valor_2):\n",
        "  soma = Valor_1 + Valor_2\n",
        "  print( soma )\n",
        "  \n",
        "Somar(10, 10)"
      ],
      "metadata": {
        "id": "gjWq-KBydpq5",
        "colab": {
          "base_uri": "https://localhost:8080/"
        },
        "outputId": "af0119c4-4c9a-4d7d-bc07-e3efbfd58519"
      },
      "execution_count": null,
      "outputs": [
        {
          "output_type": "stream",
          "name": "stdout",
          "text": [
            "20\n"
          ]
        }
      ]
    },
    {
      "cell_type": "code",
      "source": [
        "Exemplo = lambda Valor : 'Verdadeiro' if Valor % 2 == 0 else 'Falso'\n",
        "Exemplo(1)"
      ],
      "metadata": {
        "id": "UJ3d3ER7dp0C",
        "colab": {
          "base_uri": "https://localhost:8080/",
          "height": 35
        },
        "outputId": "8a106b63-9e0e-4305-ef04-1826da228d5d"
      },
      "execution_count": null,
      "outputs": [
        {
          "output_type": "execute_result",
          "data": {
            "text/plain": [
              "'Falso'"
            ],
            "application/vnd.google.colaboratory.intrinsic+json": {
              "type": "string"
            }
          },
          "metadata": {},
          "execution_count": 13
        }
      ]
    },
    {
      "cell_type": "code",
      "source": [
        "#Estrutura TRY\n",
        "# o TRY permite testar um bloco de codigo quanto a erros\n",
        "# o EXCEPT permite que voce lide com o erro\n",
        "# o ELSE permite executar codigo quando nao ha erro\n",
        "# o FINALLY permite que voce execute codigo, independentemente do resultado dos blocos TRY e EXCEPT\n",
        "try:\n",
        "  0 / 0\n",
        "  #print('Deu certo')\n",
        "except:\n",
        "  print('Nao deu certo')  \n",
        "finally:\n",
        "  print('Vou ser executado da msm forma')  "
      ],
      "metadata": {
        "id": "ffOGnqQhdp_O",
        "colab": {
          "base_uri": "https://localhost:8080/"
        },
        "outputId": "7bbb2eb5-4839-4610-a4b0-e38c60fda577"
      },
      "execution_count": null,
      "outputs": [
        {
          "output_type": "stream",
          "name": "stdout",
          "text": [
            "Nao deu certo\n",
            "Vou ser executado da msm forma\n"
          ]
        }
      ]
    },
    {
      "cell_type": "code",
      "source": [
        "# Estrutura de Classes/Objetos\n",
        "# Python Ê uma linguagem de programacao orientada a objetos.\n",
        "# Quase tudo em Python Ê um objeto, com suas propriedades e metodos.\n",
        "# Uma classe ê como um consultor de objetos, ou um projeto para criar objetos."
      ],
      "metadata": {
        "id": "aygQzu9BdqJ9"
      },
      "execution_count": null,
      "outputs": []
    },
    {
      "cell_type": "code",
      "source": [
        "class Pessoa:\n",
        "\n",
        "  #Metodo Construtor \n",
        "  def __init__(self, Nome, Idade):\n",
        "    self.Nome = Nome\n",
        "    self.Idade = Idade\n",
        "\n",
        "  def Boas_Vindas(self):\n",
        "    print('Ola, Seja Bem-vindo: ',self.Nome) \n",
        "\n",
        "  def Recusado(self):\n",
        "    print('Seu acesso foi recusado!')   \n",
        "\n",
        "    #funcao\n",
        "  def Maior_Idade(self):\n",
        "     if self.Idade >= 18:\n",
        "       print('Usuario maior de Idade!')\n",
        "       self.Boas_Vindas()\n",
        "     else:\n",
        "       print('Usuario menor de Idade!') \n",
        "       self.Recusado()\n"
      ],
      "metadata": {
        "id": "tvY5PTRZdqXh"
      },
      "execution_count": null,
      "outputs": []
    },
    {
      "cell_type": "code",
      "source": [
        "Dado = Pessoa('Luiz', 31)\n"
      ],
      "metadata": {
        "id": "J776-JVndqe9"
      },
      "execution_count": null,
      "outputs": []
    },
    {
      "cell_type": "code",
      "source": [
        "Dado.Maior_Idade()"
      ],
      "metadata": {
        "id": "UthNorA1dqp9",
        "colab": {
          "base_uri": "https://localhost:8080/"
        },
        "outputId": "1b416338-5ee9-4422-dc89-b968c9524f55"
      },
      "execution_count": null,
      "outputs": [
        {
          "output_type": "stream",
          "name": "stdout",
          "text": [
            "Usuario maior de Idade!\n",
            "Ola, Seja Bem-vindo:  Luiz\n"
          ]
        }
      ]
    },
    {
      "cell_type": "code",
      "source": [
        "#Modulos e Pacotes\n",
        "#instalando biblioteca\n",
        "\n",
        "!pip install pandas"
      ],
      "metadata": {
        "colab": {
          "base_uri": "https://localhost:8080/"
        },
        "id": "z-0WMkERYRSs",
        "outputId": "90e38237-08f8-441f-c620-fb62ecea7398"
      },
      "execution_count": null,
      "outputs": [
        {
          "output_type": "stream",
          "name": "stdout",
          "text": [
            "Requirement already satisfied: pandas in /usr/local/lib/python3.7/dist-packages (1.3.5)\n",
            "Requirement already satisfied: python-dateutil>=2.7.3 in /usr/local/lib/python3.7/dist-packages (from pandas) (2.8.2)\n",
            "Requirement already satisfied: pytz>=2017.3 in /usr/local/lib/python3.7/dist-packages (from pandas) (2022.1)\n",
            "Requirement already satisfied: numpy>=1.17.3 in /usr/local/lib/python3.7/dist-packages (from pandas) (1.21.6)\n",
            "Requirement already satisfied: six>=1.5 in /usr/local/lib/python3.7/dist-packages (from python-dateutil>=2.7.3->pandas) (1.15.0)\n"
          ]
        }
      ]
    },
    {
      "cell_type": "code",
      "source": [
        "#print formatado\n"
      ],
      "metadata": {
        "id": "a8sEWyFvYRvS"
      },
      "execution_count": null,
      "outputs": []
    },
    {
      "cell_type": "code",
      "source": [
        ""
      ],
      "metadata": {
        "id": "weWnuRKGYR2x"
      },
      "execution_count": null,
      "outputs": []
    },
    {
      "cell_type": "code",
      "source": [
        ""
      ],
      "metadata": {
        "id": "8NSG7LChYSFw"
      },
      "execution_count": null,
      "outputs": []
    },
    {
      "cell_type": "code",
      "source": [
        ""
      ],
      "metadata": {
        "id": "r140Wz7dYSUh"
      },
      "execution_count": null,
      "outputs": []
    }
  ]
}